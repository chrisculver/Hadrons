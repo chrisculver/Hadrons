{
 "cells": [
  {
   "cell_type": "code",
   "execution_count": 2,
   "metadata": {},
   "outputs": [],
   "source": [
    "#import sqlite3\n",
    "\n",
    "#con = sqlite3.connect('build/spectrumResults.db')\n",
    "#cur = con.cursor()\n",
    "\n",
    "#for thing in cur.execute(\"SELECT * FROM sqlite_master\"):\n",
    "#    print(str(thing))\n",
    "\n",
    "#con = sqlite3.connect('build/spectrumResults.db')\n",
    "#con.row_factory = sqlite3.Row\n",
    "#cur = con.cursor()\n",
    "\n",
    "#full_db = cur.execute(\"SELECT * FROM sqlite_master\")\n",
    "\n",
    "#r = cur.fetchone() # this is an sqlite3.Row object\n",
    "#tuple(r)\n",
    "\n",
    "#r[2]\n",
    "#r.keys()\n",
    "#r['type']\n",
    "#r['name']\n",
    "\n",
    "#for member in r:\n",
    "#    print(member)\n",
    "\n",
    "#r = cur.fetchone()\n",
    "#for member in r:\n",
    "#    print(member)"
   ]
  },
  {
   "cell_type": "code",
   "execution_count": 1,
   "metadata": {},
   "outputs": [],
   "source": [
    "import h5py\n",
    "\n",
    "f = h5py.File('build/mesons/pt_ll.1500.h5','r')"
   ]
  },
  {
   "cell_type": "code",
   "execution_count": 2,
   "metadata": {},
   "outputs": [
    {
     "data": {
      "text/plain": [
       "['meson']"
      ]
     },
     "execution_count": 2,
     "metadata": {},
     "output_type": "execute_result"
    }
   ],
   "source": [
    "list(f.keys())"
   ]
  },
  {
   "cell_type": "code",
   "execution_count": 3,
   "metadata": {},
   "outputs": [
    {
     "data": {
      "text/plain": [
       "<HDF5 group \"/meson\" (1 members)>"
      ]
     },
     "execution_count": 3,
     "metadata": {},
     "output_type": "execute_result"
    }
   ],
   "source": [
    "f['meson']"
   ]
  },
  {
   "cell_type": "code",
   "execution_count": 4,
   "metadata": {},
   "outputs": [
    {
     "data": {
      "text/plain": [
       "<KeysViewHDF5 ['meson_0']>"
      ]
     },
     "execution_count": 4,
     "metadata": {},
     "output_type": "execute_result"
    }
   ],
   "source": [
    "f['meson'].keys()"
   ]
  },
  {
   "cell_type": "code",
   "execution_count": 5,
   "metadata": {},
   "outputs": [
    {
     "name": "stdout",
     "output_type": "stream",
     "text": [
      "(0.47514311, 0.)\n",
      "(0.14110596, 0.)\n",
      "(0.01616758, 0.)\n",
      "(0.00479995, 0.)\n",
      "(0.00189174, 0.)\n",
      "(0.00479995, 0.)\n",
      "(0.01616758, 0.)\n",
      "(0.14110596, 0.)\n"
     ]
    }
   ],
   "source": [
    "for ct in f['meson']['meson_0']['corr']:\n",
    "    print(ct)"
   ]
  },
  {
   "cell_type": "code",
   "execution_count": 6,
   "metadata": {},
   "outputs": [
    {
     "data": {
      "text/plain": [
       "['meson']"
      ]
     },
     "execution_count": 6,
     "metadata": {},
     "output_type": "execute_result"
    }
   ],
   "source": [
    "f = h5py.File('build/pipi/pt_llll.1500.h5','r')\n",
    "list(f.keys())"
   ]
  },
  {
   "cell_type": "code",
   "execution_count": 7,
   "metadata": {},
   "outputs": [
    {
     "data": {
      "text/plain": [
       "<KeysViewHDF5 ['corr']>"
      ]
     },
     "execution_count": 7,
     "metadata": {},
     "output_type": "execute_result"
    }
   ],
   "source": [
    "f['meson'].keys()"
   ]
  },
  {
   "cell_type": "code",
   "execution_count": 8,
   "metadata": {},
   "outputs": [
    {
     "name": "stdout",
     "output_type": "stream",
     "text": [
      "(0.01396307, 4.48061938e-22)\n",
      "(0.00270574, 6.17705478e-23)\n",
      "(2.79147753e-05, 3.69168526e-24)\n",
      "(8.89257979e-07, -1.00452104e-25)\n",
      "(1.45020409e-07, -8.73221424e-36)\n",
      "(8.89257979e-07, -1.66307241e-25)\n",
      "(2.79147753e-05, 1.47897126e-24)\n",
      "(0.00270574, -4.93420171e-22)\n"
     ]
    }
   ],
   "source": [
    "for ct in f['meson']['corr']:\n",
    "    print(ct)"
   ]
  },
  {
   "cell_type": "code",
   "execution_count": null,
   "metadata": {},
   "outputs": [],
   "source": []
  },
  {
   "cell_type": "code",
   "execution_count": null,
   "metadata": {},
   "outputs": [],
   "source": []
  }
 ],
 "metadata": {
  "kernelspec": {
   "display_name": "Python 3",
   "language": "python",
   "name": "python3"
  },
  "language_info": {
   "codemirror_mode": {
    "name": "ipython",
    "version": 3
   },
   "file_extension": ".py",
   "mimetype": "text/x-python",
   "name": "python",
   "nbconvert_exporter": "python",
   "pygments_lexer": "ipython3",
   "version": "3.9.1"
  }
 },
 "nbformat": 4,
 "nbformat_minor": 4
}
