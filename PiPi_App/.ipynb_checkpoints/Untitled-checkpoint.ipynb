{
 "cells": [
  {
   "cell_type": "code",
   "execution_count": 54,
   "metadata": {},
   "outputs": [],
   "source": [
    "import sqlite3"
   ]
  },
  {
   "cell_type": "code",
   "execution_count": 61,
   "metadata": {},
   "outputs": [
    {
     "name": "stdout",
     "output_type": "stream",
     "text": [
      "('table', 'meson', 'meson', 2, 'CREATE TABLE meson (traj INTEGER NOT NULL,filename TEXT NOT NULL UNIQUE,q1 TEXT NOT NULL,q2 TEXT NOT NULL,source TEXT NOT NULL)')\n",
      "('index', 'sqlite_autoindex_meson_1', 'meson', 3, None)\n",
      "('table', 'baryon', 'baryon', 4, 'CREATE TABLE baryon (traj INTEGER NOT NULL,filename TEXT NOT NULL UNIQUE,q1 TEXT NOT NULL,q2 TEXT NOT NULL,q3 TEXT NOT NULL,source TEXT NOT NULL)')\n",
      "('index', 'sqlite_autoindex_baryon_1', 'baryon', 5, None)\n"
     ]
    }
   ],
   "source": [
    "con = sqlite3.connect('build/spectrumResults.db')\n",
    "\n",
    "cur = con.cursor()\n",
    "\n",
    "for thing in cur.execute(\"SELECT * FROM sqlite_master\"):\n",
    "    print(str(thing))\n",
    "\n"
   ]
  },
  {
   "cell_type": "code",
   "execution_count": 66,
   "metadata": {},
   "outputs": [],
   "source": [
    "con = sqlite3.connect('build/spectrumResults.db')\n",
    "con.row_factory = sqlite3.Row\n",
    "cur = con.cursor()\n",
    "\n",
    "full_db = cur.execute(\"SELECT * FROM sqlite_master\")"
   ]
  },
  {
   "cell_type": "code",
   "execution_count": 68,
   "metadata": {},
   "outputs": [
    {
     "data": {
      "text/plain": [
       "('index', 'sqlite_autoindex_meson_1', 'meson', 3, None)"
      ]
     },
     "execution_count": 68,
     "metadata": {},
     "output_type": "execute_result"
    }
   ],
   "source": [
    "r = cur.fetchone() # this is an sqlite3.Row object\n",
    "tuple(r)"
   ]
  },
  {
   "cell_type": "code",
   "execution_count": 70,
   "metadata": {},
   "outputs": [
    {
     "data": {
      "text/plain": [
       "'meson'"
      ]
     },
     "execution_count": 70,
     "metadata": {},
     "output_type": "execute_result"
    }
   ],
   "source": [
    "r[2]"
   ]
  },
  {
   "cell_type": "code",
   "execution_count": 71,
   "metadata": {},
   "outputs": [
    {
     "data": {
      "text/plain": [
       "['type', 'name', 'tbl_name', 'rootpage', 'sql']"
      ]
     },
     "execution_count": 71,
     "metadata": {},
     "output_type": "execute_result"
    }
   ],
   "source": [
    "r.keys()"
   ]
  },
  {
   "cell_type": "code",
   "execution_count": 72,
   "metadata": {},
   "outputs": [
    {
     "data": {
      "text/plain": [
       "'index'"
      ]
     },
     "execution_count": 72,
     "metadata": {},
     "output_type": "execute_result"
    }
   ],
   "source": [
    "r['type']"
   ]
  },
  {
   "cell_type": "code",
   "execution_count": 73,
   "metadata": {},
   "outputs": [
    {
     "data": {
      "text/plain": [
       "'sqlite_autoindex_meson_1'"
      ]
     },
     "execution_count": 73,
     "metadata": {},
     "output_type": "execute_result"
    }
   ],
   "source": [
    "r['name']"
   ]
  },
  {
   "cell_type": "code",
   "execution_count": 74,
   "metadata": {},
   "outputs": [
    {
     "name": "stdout",
     "output_type": "stream",
     "text": [
      "index\n",
      "sqlite_autoindex_meson_1\n",
      "meson\n",
      "3\n",
      "None\n"
     ]
    }
   ],
   "source": [
    "for member in r:\n",
    "    print(member)"
   ]
  },
  {
   "cell_type": "code",
   "execution_count": 75,
   "metadata": {},
   "outputs": [],
   "source": [
    "r = cur.fetchone()"
   ]
  },
  {
   "cell_type": "code",
   "execution_count": 76,
   "metadata": {},
   "outputs": [
    {
     "name": "stdout",
     "output_type": "stream",
     "text": [
      "table\n",
      "baryon\n",
      "baryon\n",
      "4\n",
      "CREATE TABLE baryon (traj INTEGER NOT NULL,filename TEXT NOT NULL UNIQUE,q1 TEXT NOT NULL,q2 TEXT NOT NULL,q3 TEXT NOT NULL,source TEXT NOT NULL)\n"
     ]
    }
   ],
   "source": [
    "for member in r:\n",
    "    print(member)"
   ]
  },
  {
   "cell_type": "code",
   "execution_count": 79,
   "metadata": {},
   "outputs": [],
   "source": [
    "import h5py\n",
    "\n",
    "f = h5py.File('build/mesons/pt_ll.1500.h5','r')"
   ]
  },
  {
   "cell_type": "code",
   "execution_count": 81,
   "metadata": {},
   "outputs": [
    {
     "data": {
      "text/plain": [
       "['meson']"
      ]
     },
     "execution_count": 81,
     "metadata": {},
     "output_type": "execute_result"
    }
   ],
   "source": [
    "list(f.keys())"
   ]
  },
  {
   "cell_type": "code",
   "execution_count": 82,
   "metadata": {},
   "outputs": [
    {
     "data": {
      "text/plain": [
       "<HDF5 group \"/meson\" (256 members)>"
      ]
     },
     "execution_count": 82,
     "metadata": {},
     "output_type": "execute_result"
    }
   ],
   "source": [
    "f['meson']"
   ]
  },
  {
   "cell_type": "code",
   "execution_count": 83,
   "metadata": {},
   "outputs": [
    {
     "data": {
      "text/plain": [
       "<KeysViewHDF5 ['meson_0', 'meson_1', 'meson_10', 'meson_100', 'meson_101', 'meson_102', 'meson_103', 'meson_104', 'meson_105', 'meson_106', 'meson_107', 'meson_108', 'meson_109', 'meson_11', 'meson_110', 'meson_111', 'meson_112', 'meson_113', 'meson_114', 'meson_115', 'meson_116', 'meson_117', 'meson_118', 'meson_119', 'meson_12', 'meson_120', 'meson_121', 'meson_122', 'meson_123', 'meson_124', 'meson_125', 'meson_126', 'meson_127', 'meson_128', 'meson_129', 'meson_13', 'meson_130', 'meson_131', 'meson_132', 'meson_133', 'meson_134', 'meson_135', 'meson_136', 'meson_137', 'meson_138', 'meson_139', 'meson_14', 'meson_140', 'meson_141', 'meson_142', 'meson_143', 'meson_144', 'meson_145', 'meson_146', 'meson_147', 'meson_148', 'meson_149', 'meson_15', 'meson_150', 'meson_151', 'meson_152', 'meson_153', 'meson_154', 'meson_155', 'meson_156', 'meson_157', 'meson_158', 'meson_159', 'meson_16', 'meson_160', 'meson_161', 'meson_162', 'meson_163', 'meson_164', 'meson_165', 'meson_166', 'meson_167', 'meson_168', 'meson_169', 'meson_17', 'meson_170', 'meson_171', 'meson_172', 'meson_173', 'meson_174', 'meson_175', 'meson_176', 'meson_177', 'meson_178', 'meson_179', 'meson_18', 'meson_180', 'meson_181', 'meson_182', 'meson_183', 'meson_184', 'meson_185', 'meson_186', 'meson_187', 'meson_188', 'meson_189', 'meson_19', 'meson_190', 'meson_191', 'meson_192', 'meson_193', 'meson_194', 'meson_195', 'meson_196', 'meson_197', 'meson_198', 'meson_199', 'meson_2', 'meson_20', 'meson_200', 'meson_201', 'meson_202', 'meson_203', 'meson_204', 'meson_205', 'meson_206', 'meson_207', 'meson_208', 'meson_209', 'meson_21', 'meson_210', 'meson_211', 'meson_212', 'meson_213', 'meson_214', 'meson_215', 'meson_216', 'meson_217', 'meson_218', 'meson_219', 'meson_22', 'meson_220', 'meson_221', 'meson_222', 'meson_223', 'meson_224', 'meson_225', 'meson_226', 'meson_227', 'meson_228', 'meson_229', 'meson_23', 'meson_230', 'meson_231', 'meson_232', 'meson_233', 'meson_234', 'meson_235', 'meson_236', 'meson_237', 'meson_238', 'meson_239', 'meson_24', 'meson_240', 'meson_241', 'meson_242', 'meson_243', 'meson_244', 'meson_245', 'meson_246', 'meson_247', 'meson_248', 'meson_249', 'meson_25', 'meson_250', 'meson_251', 'meson_252', 'meson_253', 'meson_254', 'meson_255', 'meson_26', 'meson_27', 'meson_28', 'meson_29', 'meson_3', 'meson_30', 'meson_31', 'meson_32', 'meson_33', 'meson_34', 'meson_35', 'meson_36', 'meson_37', 'meson_38', 'meson_39', 'meson_4', 'meson_40', 'meson_41', 'meson_42', 'meson_43', 'meson_44', 'meson_45', 'meson_46', 'meson_47', 'meson_48', 'meson_49', 'meson_5', 'meson_50', 'meson_51', 'meson_52', 'meson_53', 'meson_54', 'meson_55', 'meson_56', 'meson_57', 'meson_58', 'meson_59', 'meson_6', 'meson_60', 'meson_61', 'meson_62', 'meson_63', 'meson_64', 'meson_65', 'meson_66', 'meson_67', 'meson_68', 'meson_69', 'meson_7', 'meson_70', 'meson_71', 'meson_72', 'meson_73', 'meson_74', 'meson_75', 'meson_76', 'meson_77', 'meson_78', 'meson_79', 'meson_8', 'meson_80', 'meson_81', 'meson_82', 'meson_83', 'meson_84', 'meson_85', 'meson_86', 'meson_87', 'meson_88', 'meson_89', 'meson_9', 'meson_90', 'meson_91', 'meson_92', 'meson_93', 'meson_94', 'meson_95', 'meson_96', 'meson_97', 'meson_98', 'meson_99']>"
      ]
     },
     "execution_count": 83,
     "metadata": {},
     "output_type": "execute_result"
    }
   ],
   "source": [
    "f['meson'].keys()"
   ]
  },
  {
   "cell_type": "code",
   "execution_count": 94,
   "metadata": {},
   "outputs": [
    {
     "name": "stdout",
     "output_type": "stream",
     "text": [
      "(0.47514311, 0.)\n",
      "(0.14110596, 0.)\n",
      "(0.01616758, 0.)\n",
      "(0.00479995, 0.)\n",
      "(0.00189174, 0.)\n",
      "(0.00479995, 0.)\n",
      "(0.01616758, 0.)\n",
      "(0.14110596, 0.)\n"
     ]
    }
   ],
   "source": [
    "for ct in f['meson']['meson_0']['corr']:\n",
    "    print(ct)"
   ]
  },
  {
   "cell_type": "code",
   "execution_count": null,
   "metadata": {},
   "outputs": [],
   "source": []
  }
 ],
 "metadata": {
  "kernelspec": {
   "display_name": "Python 3",
   "language": "python",
   "name": "python3"
  },
  "language_info": {
   "codemirror_mode": {
    "name": "ipython",
    "version": 3
   },
   "file_extension": ".py",
   "mimetype": "text/x-python",
   "name": "python",
   "nbconvert_exporter": "python",
   "pygments_lexer": "ipython3",
   "version": "3.9.1"
  }
 },
 "nbformat": 4,
 "nbformat_minor": 4
}
